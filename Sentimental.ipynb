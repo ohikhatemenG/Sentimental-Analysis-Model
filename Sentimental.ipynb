{
 "cells": [
  {
   "cell_type": "markdown",
   "metadata": {},
   "source": [
    "\n",
    "THE APPLICATION OF TEXT DATA FOR SENTIMENTAL ANALYSIS"
   ]
  },
  {
   "cell_type": "raw",
   "metadata": {},
   "source": [
    "Text Data is  one of the type of data,and can be use for sentimental analysis. The dataset used for \n",
    "this project contains label for the emotional content(such as happiness, sadiness and anger) of texts. The dataset contains 1992 rows and 3 columns which are called Unamed, text and sentiment.\n"
   ]
  },
  {
   "cell_type": "code",
   "execution_count": 1,
   "metadata": {},
   "outputs": [],
   "source": [
    "\n",
    "import pandas as pd\n",
    "import numpy as np\n",
    "import tensorflow as tf\n",
    "from matplotlib import pyplot\n",
    "from tensorflow.keras.layers import Embedding\n",
    "from tensorflow.keras.layers import GlobalMaxPooling1D\n",
    "from tensorflow.keras.layers import LSTM,Dense, Dropout\n",
    "from tensorflow.keras.layers import Bidirectional\n",
    "from tensorflow.keras.models import Sequential\n",
    "from tensorflow.keras.preprocessing.sequence import pad_sequences\n",
    "from tensorflow.keras.preprocessing.text import Tokenizer\n",
    "\n",
    "dataset = pd.read_csv('combined_data.csv')"
   ]
  },
  {
   "cell_type": "raw",
   "metadata": {},
   "source": [
    "Text Data is  one of the type of data,and can be use for sentimental analysis. The dataset used for \n",
    "this project contains label for the emotional content(such as happiness, sadiness and anger) of texts. The dataset contains 1992 rows and 3 columns which are called Unamed, text and sentiment.\n"
   ]
  },
  {
   "cell_type": "code",
   "execution_count": 2,
   "metadata": {},
   "outputs": [
    {
     "data": {
      "text/html": [
       "<div>\n",
       "<style scoped>\n",
       "    .dataframe tbody tr th:only-of-type {\n",
       "        vertical-align: middle;\n",
       "    }\n",
       "\n",
       "    .dataframe tbody tr th {\n",
       "        vertical-align: top;\n",
       "    }\n",
       "\n",
       "    .dataframe thead th {\n",
       "        text-align: right;\n",
       "    }\n",
       "</style>\n",
       "<table border=\"1\" class=\"dataframe\">\n",
       "  <thead>\n",
       "    <tr style=\"text-align: right;\">\n",
       "      <th></th>\n",
       "      <th>Unnamed: 0</th>\n",
       "      <th>text</th>\n",
       "      <th>sentiment</th>\n",
       "    </tr>\n",
       "  </thead>\n",
       "  <tbody>\n",
       "    <tr>\n",
       "      <th>0</th>\n",
       "      <td>0</td>\n",
       "      <td>So there is no way for me to plug it in here i...</td>\n",
       "      <td>0</td>\n",
       "    </tr>\n",
       "    <tr>\n",
       "      <th>1</th>\n",
       "      <td>1</td>\n",
       "      <td>Good case Excellent value.</td>\n",
       "      <td>1</td>\n",
       "    </tr>\n",
       "    <tr>\n",
       "      <th>2</th>\n",
       "      <td>2</td>\n",
       "      <td>Great for the jawbone.</td>\n",
       "      <td>1</td>\n",
       "    </tr>\n",
       "    <tr>\n",
       "      <th>3</th>\n",
       "      <td>3</td>\n",
       "      <td>Tied to charger for conversations lasting more...</td>\n",
       "      <td>0</td>\n",
       "    </tr>\n",
       "    <tr>\n",
       "      <th>4</th>\n",
       "      <td>4</td>\n",
       "      <td>The mic is great.</td>\n",
       "      <td>1</td>\n",
       "    </tr>\n",
       "    <tr>\n",
       "      <th>...</th>\n",
       "      <td>...</td>\n",
       "      <td>...</td>\n",
       "      <td>...</td>\n",
       "    </tr>\n",
       "    <tr>\n",
       "      <th>1987</th>\n",
       "      <td>1987</td>\n",
       "      <td>I think food should have flavor and texture an...</td>\n",
       "      <td>0</td>\n",
       "    </tr>\n",
       "    <tr>\n",
       "      <th>1988</th>\n",
       "      <td>1988</td>\n",
       "      <td>Appetite instantly gone.</td>\n",
       "      <td>0</td>\n",
       "    </tr>\n",
       "    <tr>\n",
       "      <th>1989</th>\n",
       "      <td>1989</td>\n",
       "      <td>Overall I was not impressed and would not go b...</td>\n",
       "      <td>0</td>\n",
       "    </tr>\n",
       "    <tr>\n",
       "      <th>1990</th>\n",
       "      <td>1990</td>\n",
       "      <td>The whole experience was underwhelming and I t...</td>\n",
       "      <td>0</td>\n",
       "    </tr>\n",
       "    <tr>\n",
       "      <th>1991</th>\n",
       "      <td>1991</td>\n",
       "      <td>Then as if I hadn't wasted enough of my life t...</td>\n",
       "      <td>0</td>\n",
       "    </tr>\n",
       "  </tbody>\n",
       "</table>\n",
       "<p>1992 rows × 3 columns</p>\n",
       "</div>"
      ],
      "text/plain": [
       "      Unnamed: 0                                               text  sentiment\n",
       "0              0  So there is no way for me to plug it in here i...          0\n",
       "1              1                         Good case Excellent value.          1\n",
       "2              2                             Great for the jawbone.          1\n",
       "3              3  Tied to charger for conversations lasting more...          0\n",
       "4              4                                  The mic is great.          1\n",
       "...          ...                                                ...        ...\n",
       "1987        1987  I think food should have flavor and texture an...          0\n",
       "1988        1988                           Appetite instantly gone.          0\n",
       "1989        1989  Overall I was not impressed and would not go b...          0\n",
       "1990        1990  The whole experience was underwhelming and I t...          0\n",
       "1991        1991  Then as if I hadn't wasted enough of my life t...          0\n",
       "\n",
       "[1992 rows x 3 columns]"
      ]
     },
     "execution_count": 2,
     "metadata": {},
     "output_type": "execute_result"
    }
   ],
   "source": [
    "dataset"
   ]
  },
  {
   "cell_type": "code",
   "execution_count": 3,
   "metadata": {},
   "outputs": [
    {
     "data": {
      "text/plain": [
       "(1992, 3)"
      ]
     },
     "execution_count": 3,
     "metadata": {},
     "output_type": "execute_result"
    }
   ],
   "source": [
    "dataset.shape"
   ]
  },
  {
   "cell_type": "code",
   "execution_count": 4,
   "metadata": {},
   "outputs": [
    {
     "data": {
      "text/plain": [
       "Unnamed: 0    0\n",
       "text          0\n",
       "sentiment     0\n",
       "dtype: int64"
      ]
     },
     "execution_count": 4,
     "metadata": {},
     "output_type": "execute_result"
    }
   ],
   "source": [
    "dataset.isna().sum()"
   ]
  },
  {
   "cell_type": "raw",
   "metadata": {},
   "source": [
    "Define the feature and label"
   ]
  },
  {
   "cell_type": "code",
   "execution_count": 5,
   "metadata": {},
   "outputs": [],
   "source": [
    "sentences = dataset['text'].tolist()\n",
    "labels = dataset['sentiment'].tolist()"
   ]
  },
  {
   "cell_type": "code",
   "execution_count": 6,
   "metadata": {},
   "outputs": [],
   "source": [
    "#separate the sentences and label in to training and test datasets with ratio of 4 : 1 respectively\n",
    "training_size = int(len(sentences)* 0.8)\n",
    "\n",
    "training_sentences = sentences[0: training_size]\n",
    "testing_sentences = sentences[training_size:]\n",
    "training_labels = labels[0:training_size]\n",
    "testing_labels = labels[training_size:]\n",
    "\n"
   ]
  },
  {
   "cell_type": "code",
   "execution_count": 8,
   "metadata": {},
   "outputs": [],
   "source": [
    "# make label into numpy array for use later \n",
    "training_labels_final = np.array(training_labels)\n",
    "testing_labels_final = np.array(testing_labels)"
   ]
  },
  {
   "cell_type": "markdown",
   "metadata": {},
   "source": [
    "THE STAGE OF TOKENIZER THE SENTENCES"
   ]
  },
  {
   "cell_type": "code",
   "execution_count": 9,
   "metadata": {},
   "outputs": [],
   "source": [
    "vocab_size = 2000\n",
    "embedding_dim = 10 \n",
    "max_length = 25\n",
    "padding_type='post'\n",
    "truncat_type ='post'\n",
    "oov_tok =\"<OOV>\"\n",
    "# let Tokenizer the training dataset\n",
    "tokenizer = Tokenizer(num_words=vocab_size, oov_token = oov_tok )\n",
    "tokenizer.fit_on_texts(training_sentences)\n",
    "word_index = tokenizer.word_index\n",
    "\n",
    "# make word_index to sequences\n",
    "\n",
    "sequences = tokenizer.texts_to_sequences(training_sentences)\n"
   ]
  },
  {
   "cell_type": "code",
   "execution_count": 10,
   "metadata": {},
   "outputs": [
    {
     "name": "stdout",
     "output_type": "stream",
     "text": [
      "Training Padding\n",
      "[[ 26  68   7 ...   0   0   0]\n",
      " [ 20  90  76 ...   0   0   0]\n",
      " [ 19  13   2 ...   0   0   0]\n",
      " ...\n",
      " [  4  50 809 ...   0   0   0]\n",
      " [ 14  20  13 ...   0   0   0]\n",
      " [  4   1   5 ...   0   0   0]]\n",
      "Test Padding\n",
      "[[  41  118 1473 ...  335    0    0]\n",
      " [  43   66   23 ...    0    0    0]\n",
      " [  20  364   19 ...    0    0    0]\n",
      " ...\n",
      " [ 255    4   10 ...    0    0    0]\n",
      " [   2  690  230 ...    0    0    0]\n",
      " [ 125   32   46 ...    5  315    8]]\n"
     ]
    }
   ],
   "source": [
    "# Let pad and truncate the sequence\n",
    "padded = pad_sequences(sequences, maxlen=max_length, padding=padding_type, truncating=truncat_type,)\n",
    "print(\"Training Padding\")\n",
    "print(padded)\n",
    "\n",
    "testing_sequences = tokenizer.texts_to_sequences(testing_sentences)\n",
    "test_padded = pad_sequences(testing_sequences, maxlen=max_length, padding=padding_type, truncating=truncat_type)\n",
    "print(\"Test Padding\")\n",
    "print(test_padded)\n",
    "\n"
   ]
  },
  {
   "cell_type": "markdown",
   "metadata": {},
   "source": [
    "THE STAGE OF EMBEDDING "
   ]
  },
  {
   "cell_type": "code",
   "execution_count": 11,
   "metadata": {},
   "outputs": [
    {
     "name": "stdout",
     "output_type": "stream",
     "text": [
      "Model: \"sequential\"\n",
      "_________________________________________________________________\n",
      "Layer (type)                 Output Shape              Param #   \n",
      "=================================================================\n",
      "embedding (Embedding)        (None, 25, 10)            20000     \n",
      "_________________________________________________________________\n",
      "global_max_pooling1d (Global (None, 10)                0         \n",
      "_________________________________________________________________\n",
      "dense (Dense)                (None, 6)                 66        \n",
      "_________________________________________________________________\n",
      "dense_1 (Dense)              (None, 1)                 7         \n",
      "=================================================================\n",
      "Total params: 20,073\n",
      "Trainable params: 20,073\n",
      "Non-trainable params: 0\n",
      "_________________________________________________________________\n",
      "None\n"
     ]
    }
   ],
   "source": [
    "# Define the model\n",
    "model = Sequential()\n",
    "model.add(Embedding(vocab_size,embedding_dim, input_length=max_length))\n",
    "model.add(GlobalMaxPooling1D())\n",
    "model.add(Dense(6, activation='relu'))\n",
    "model.add(Dense(1, activation='sigmoid'))\n",
    "print(model.summary())"
   ]
  },
  {
   "cell_type": "code",
   "execution_count": 12,
   "metadata": {},
   "outputs": [
    {
     "name": "stdout",
     "output_type": "stream",
     "text": [
      "Train on 1593 samples, validate on 399 samples\n",
      "Epoch 1/12\n",
      "1593/1593 [==============================] - 6s 4ms/sample - loss: 0.6927 - accuracy: 0.5493 - val_loss: 0.6920 - val_accuracy: 0.6115\n",
      "Epoch 2/12\n",
      "1593/1593 [==============================] - 1s 329us/sample - loss: 0.6846 - accuracy: 0.6196 - val_loss: 0.6848 - val_accuracy: 0.5464\n",
      "Epoch 3/12\n",
      "1593/1593 [==============================] - 0s 159us/sample - loss: 0.6603 - accuracy: 0.7445 - val_loss: 0.6645 - val_accuracy: 0.6642\n",
      "Epoch 4/12\n",
      "1593/1593 [==============================] - 0s 173us/sample - loss: 0.6171 - accuracy: 0.8073 - val_loss: 0.6247 - val_accuracy: 0.7243\n",
      "Epoch 5/12\n",
      "1593/1593 [==============================] - 0s 172us/sample - loss: 0.5525 - accuracy: 0.8851 - val_loss: 0.5742 - val_accuracy: 0.7594\n",
      "Epoch 6/12\n",
      "1593/1593 [==============================] - 0s 167us/sample - loss: 0.4765 - accuracy: 0.9071 - val_loss: 0.5261 - val_accuracy: 0.7744\n",
      "Epoch 7/12\n",
      "1593/1593 [==============================] - 0s 161us/sample - loss: 0.4018 - accuracy: 0.9127 - val_loss: 0.4860 - val_accuracy: 0.7820\n",
      "Epoch 8/12\n",
      "1593/1593 [==============================] - 0s 169us/sample - loss: 0.3392 - accuracy: 0.9266 - val_loss: 0.4566 - val_accuracy: 0.7995\n",
      "Epoch 9/12\n",
      "1593/1593 [==============================] - 0s 170us/sample - loss: 0.2887 - accuracy: 0.9353 - val_loss: 0.4356 - val_accuracy: 0.8145\n",
      "Epoch 10/12\n",
      "1593/1593 [==============================] - 0s 175us/sample - loss: 0.2471 - accuracy: 0.9422 - val_loss: 0.4256 - val_accuracy: 0.8145\n",
      "Epoch 11/12\n",
      "1593/1593 [==============================] - 0s 171us/sample - loss: 0.2140 - accuracy: 0.9460 - val_loss: 0.4171 - val_accuracy: 0.8120\n",
      "Epoch 12/12\n",
      "1593/1593 [==============================] - 0s 170us/sample - loss: 0.1865 - accuracy: 0.9523 - val_loss: 0.4126 - val_accuracy: 0.8145\n"
     ]
    }
   ],
   "source": [
    "# compile the model\n",
    "\n",
    "model.compile(loss='binary_crossentropy', optimizer='adam', metrics=['accuracy'])\n",
    "\n",
    "# fit the model\n",
    "num_epochs=12\n",
    "\n",
    "history = model.fit(padded, training_labels_final, epochs=num_epochs, validation_data=(test_padded, testing_labels_final) )\n",
    "\n",
    "# evaluate the model\n"
   ]
  },
  {
   "cell_type": "code",
   "execution_count": 15,
   "metadata": {},
   "outputs": [
    {
     "data": {
      "image/png": "[encoded data removed]",
      "text/plain": [
       "<Figure size 864x720 with 1 Axes>"
      ]
     },
     "metadata": {
      "needs_background": "light"
     },
     "output_type": "display_data"
    }
   ],
   "source": [
    "history_dict = history.history\n",
    "accy = history_dict['accuracy']\n",
    "val_accy = history_dict['val_accuracy']\n",
    "epochs = range(1, len(accy) + 1)\n",
    "\n",
    "pyplot.figure(figsize=(12, 10))\n",
    "pyplot.plot(epochs, accy, 'g', label = 'Training accuracy')\n",
    "pyplot.plot(epochs, val_accy, 'b', label = 'Validation accuracy')\n",
    "pyplot.title('TRAINING AND VALIDATION ACCURACY')\n",
    "pyplot.xlabel('Epochs')\n",
    "pyplot.ylabel('Accuracy')\n",
    "pyplot.legend(loc='upper right')\n",
    "pyplot.ylim((0.5, 1))\n",
    "pyplot.show()\n"
   ]
  },
  {
   "cell_type": "code",
   "execution_count": null,
   "metadata": {},
   "outputs": [],
   "source": []
  }
 ],
 "metadata": {
  "kernelspec": {
   "display_name": "Python 3",
   "language": "python",
   "name": "python3"
  },
  "language_info": {
   "codemirror_mode": {
    "name": "ipython",
    "version": 3
   },
   "file_extension": ".py",
   "mimetype": "text/x-python",
   "name": "python",
   "nbconvert_exporter": "python",
   "pygments_lexer": "ipython3",
   "version": "3.7.7"
  }
 },
 "nbformat": 4,
 "nbformat_minor": 4
}
